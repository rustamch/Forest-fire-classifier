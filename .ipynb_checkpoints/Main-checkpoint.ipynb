{
 "cells": [
  {
   "cell_type": "markdown",
   "metadata": {},
   "source": [
    "<H1>Group 22: Project title<H1>"
   ]
  },
  {
   "cell_type": "markdown",
   "metadata": {},
   "source": [
    "**Introduction**"
   ]
  },
  {
   "cell_type": "markdown",
   "metadata": {},
   "source": [
    "\n",
    "We have all seen the rise in number of forest fires in the past few years and scinetists and climate activists alike all over the world have raised their concerns regarding the same. While natural in few ecosystems, these recent forest fires root their cause to the global rise in temperature and poor land management by authorities. Due to this no matter whether a wildfire's origin is due to human intervention or natural, the drier climate makes it easy for it to spread over a region quite intensely. \n",
    "<br>\n",
    "These fires are clear indicators that for change because not only do they sometimes do irreparable damge to forest ecosystems but also the gases released due to these fires travel to the city causing health crises. While governments all over the world introduce initiatives to promote sustatinable practices and the general public abides by them, it is also important for scienitsts to know which forests are prone to fires. Through this project we intend to answer the question **_\"Whether there will be a forest-fire or not, given certain predictors.\"_**<br>\n"
   ]
  },
  {
   "cell_type": "markdown",
   "metadata": {},
   "source": [
    "To help answer this question, we make use of the Algerian Forest Fire Data Set which has 244 observations of 13 attributes and 1 output attribute, which in this case tells us whether there was a fire or not. <br>"
   ]
  },
  {
   "cell_type": "markdown",
   "metadata": {},
   "source": [
    "<H4> Data set used: </H4>\n",
    "Algerian forest fires: https://archive.ics.uci.edu/ml/machine-learning-databases/00547/Algerian_forest_fires_dataset_UPDATE.csv <br>\n",
    "This data set has fourteen variables, thirteen of which are numerical and one is categorical."
   ]
  },
  {
   "cell_type": "markdown",
   "metadata": {},
   "source": [
    "<H2>Loading the data set into R and wrangling it</H2>"
   ]
  },
  {
   "cell_type": "code",
   "execution_count": null,
   "metadata": {},
   "outputs": [],
   "source": [
    "install.packages(\"skimr\")\n",
    "install.packages(\"GGally\")\n",
    "library(tidyverse)\n",
    "library(repr)\n",
    "library(GGally)\n",
    "library(tidymodels)\n",
    "library(skimr)"
   ]
  },
  {
   "cell_type": "code",
   "execution_count": null,
   "metadata": {},
   "outputs": [],
   "source": [
    "# URL that contains the dataframe that we want to examine\n",
    "url <- \"https://archive.ics.uci.edu/ml/machine-learning-databases/00547/Algerian_forest_fires_dataset_UPDATE.csv\"\n",
    "\n",
    "# Reading dataframe into R\n",
    "algerian_forest_fires <- read_csv(url,skip = 1)\n",
    "\n",
    "# Examining the data frame\n",
    "# algerian_forest_data\n",
    "\n",
    "# Inspecting the parsing failures\n",
    "\n",
    "# algerian_forest_fires[123, 1:14] -- Empty row between two data sets\n",
    " \n",
    "# algerian_forest_fires[168, 1:14] -- Needs to be fixed\n",
    "\n",
    "algerian_forest_fires[168, 10] = '14.6'\n",
    "algerian_forest_fires[168, 11] =  '9'\n",
    "algerian_forest_fires[168, 12] =  '12.5'\n",
    "algerian_forest_fires[168, 13] =  '10.4'\n",
    "algerian_forest_fires[168, 14] =  \"fire\""
   ]
  },
  {
   "cell_type": "markdown",
   "metadata": {},
   "source": [
    "<H3> After a quick examination we can see that:</H3>\n",
    "    <li> File that we read contains 2 dataframes.</li>\n",
    "    <li> The collumn types of the data set are not parsed correctly.</li>\n",
    "<p> To extract the target data frame, we would need to split the file into 2 dataframes that it contains, tidy each dataframe and join them </p>"
   ]
  },
  {
   "cell_type": "markdown",
   "metadata": {},
   "source": [
    "<H4>Extracting and tidying Bejaja region data set</H4>"
   ]
  },
  {
   "cell_type": "code",
   "execution_count": 90,
   "metadata": {},
   "outputs": [],
   "source": [
    "# Retrieving the bejaja data set\n",
    "bejaja_forest <- slice(algerian_forest_fires, 2:122)\n",
    "\n",
    "#Fixing the collumn types of the numerical variables\n",
    "bejaja_forest_data <- bejaja_forest %>% \n",
    "    select(day:FWI) %>% \n",
    "    map_df(as.double) \n",
    "\n",
    "# Selecting the observation class data\n",
    "bejaja_forest_fires <- bejaja_forest %>% \n",
    "    select(Classes) \n",
    "\n",
    "# Joining numerical variable and observation class data \n",
    "bejaja_forest_tidy <- cbind(bejaja_forest_data,bejaja_forest_fires)\n",
    "#head(bejaja_forest_tidy)"
   ]
  },
  {
   "cell_type": "markdown",
   "metadata": {},
   "source": [
    "<H4>Extracting and tidying Sidi-Bel region data set</H4>"
   ]
  },
  {
   "cell_type": "code",
   "execution_count": 91,
   "metadata": {},
   "outputs": [],
   "source": [
    "#Finding the number of rows in the original dataset\n",
    "number_of_rows <- nrow(algerian_forest_fires)\n",
    "\n",
    "# Retrieving the bejaja data set\n",
    "sidi_bel_forest <- slice(algerian_forest_fires, 125:number_of_rows)\n",
    "\n",
    "gsub_convert <- function(x) {\n",
    "    as.double(gsub(\",\",\".\",x))\n",
    "}\n",
    "#Fixing the collumn types of the numerical variables\n",
    "sidi_bel_forest_data <- sidi_bel_forest %>% \n",
    "    select(day:FWI) %>% \n",
    "    map_df(gsub_convert)\n",
    "\n",
    "\n",
    "# Selecting the observation class data\n",
    "sidi_bel_forest_fires <- sidi_bel_forest %>% \n",
    "    select(Classes)\n",
    "\n",
    "# Joining numerical variable and observation class data \n",
    "sidi_bel_forest_tidy <- cbind(sidi_bel_forest_data,sidi_bel_forest_fires)"
   ]
  },
  {
   "cell_type": "markdown",
   "metadata": {},
   "source": [
    "<H4>Joining our two new dataframes</H4> "
   ]
  },
  {
   "cell_type": "code",
   "execution_count": 92,
   "metadata": {},
   "outputs": [
    {
     "name": "stderr",
     "output_type": "stream",
     "text": [
      "Joining, by = c(\"day\", \"month\", \"year\", \"Temperature\", \"RH\", \"Ws\", \"Rain\", \"FFMC\", \"DMC\", \"DC\", \"ISI\", \"BUI\", \"FWI\", \"Classes\")\n",
      "\n"
     ]
    }
   ],
   "source": [
    "algerian_forest_fires_tidy <- full_join(bejaja_forest_tidy, sidi_bel_forest_tidy)\n",
    "#algerian_forest_fires_tidy\n",
    "\n",
    "# The resulting data frame is tidy and ready for the further analysis"
   ]
  },
  {
   "cell_type": "markdown",
   "metadata": {},
   "source": [
    "<H4> Choosing the split % </H4>\n",
    "When choosing a split percentage, you are forced to decide between a more accurate evaluation of your model's performance and the better-trained model. <br>\n",
    "We choose to split our data set into 75% of training data and 25% of testing data. We reasoned that since our data set is not large, allocating more observations to the testing data set would drastically decrease our model's performance. <br>"
   ]
  },
  {
   "cell_type": "code",
   "execution_count": 98,
   "metadata": {},
   "outputs": [
    {
     "data": {
      "text/html": [
       "<table>\n",
       "<caption>A tibble: 14 × 11</caption>\n",
       "<thead>\n",
       "\t<tr><th scope=col>skim_variable</th><th scope=col>n_missing</th><th scope=col>complete_rate</th><th scope=col>factor.ordered</th><th scope=col>factor.n_unique</th><th scope=col>factor.top_counts</th><th scope=col>numeric.median</th><th scope=col>numeric.mean</th><th scope=col>numeric.sd</th><th scope=col>numeric.min</th><th scope=col>numeric.max</th></tr>\n",
       "\t<tr><th scope=col>&lt;chr&gt;</th><th scope=col>&lt;int&gt;</th><th scope=col>&lt;dbl&gt;</th><th scope=col>&lt;lgl&gt;</th><th scope=col>&lt;int&gt;</th><th scope=col>&lt;chr&gt;</th><th scope=col>&lt;dbl&gt;</th><th scope=col>&lt;dbl&gt;</th><th scope=col>&lt;dbl&gt;</th><th scope=col>&lt;dbl&gt;</th><th scope=col>&lt;dbl&gt;</th></tr>\n",
       "</thead>\n",
       "<tbody>\n",
       "\t<tr><td>Classes    </td><td>0</td><td>1</td><td>FALSE</td><td> 2</td><td>fir: 104, not: 79</td><td>    NA</td><td>          NA</td><td>       NA</td><td>    NA</td><td>    NA</td></tr>\n",
       "\t<tr><td>day        </td><td>0</td><td>1</td><td>   NA</td><td>NA</td><td>NA               </td><td>  16.0</td><td>  16.2622951</td><td> 8.723283</td><td>   1.0</td><td>  31.0</td></tr>\n",
       "\t<tr><td>month      </td><td>0</td><td>1</td><td>   NA</td><td>NA</td><td>NA               </td><td>   8.0</td><td>   7.5519126</td><td> 1.122343</td><td>   6.0</td><td>   9.0</td></tr>\n",
       "\t<tr><td>year       </td><td>0</td><td>1</td><td>   NA</td><td>NA</td><td>NA               </td><td>2012.0</td><td>2012.0000000</td><td> 0.000000</td><td>2012.0</td><td>2012.0</td></tr>\n",
       "\t<tr><td>Temperature</td><td>0</td><td>1</td><td>   NA</td><td>NA</td><td>NA               </td><td>  32.0</td><td>  31.9125683</td><td> 3.558461</td><td>  22.0</td><td>  42.0</td></tr>\n",
       "\t<tr><td>RH         </td><td>0</td><td>1</td><td>   NA</td><td>NA</td><td>NA               </td><td>  64.0</td><td>  62.4153005</td><td>14.480081</td><td>  24.0</td><td>  89.0</td></tr>\n",
       "\t<tr><td>Ws         </td><td>0</td><td>1</td><td>   NA</td><td>NA</td><td>NA               </td><td>  15.0</td><td>  15.4699454</td><td> 2.751208</td><td>   6.0</td><td>  26.0</td></tr>\n",
       "\t<tr><td>Rain       </td><td>0</td><td>1</td><td>   NA</td><td>NA</td><td>NA               </td><td>   0.0</td><td>   0.7868852</td><td> 1.965567</td><td>   0.0</td><td>  16.8</td></tr>\n",
       "\t<tr><td>FFMC       </td><td>0</td><td>1</td><td>   NA</td><td>NA</td><td>NA               </td><td>  83.8</td><td>  77.7551913</td><td>14.384399</td><td>  28.6</td><td>  96.0</td></tr>\n",
       "\t<tr><td>DMC        </td><td>0</td><td>1</td><td>   NA</td><td>NA</td><td>NA               </td><td>  11.1</td><td>  14.8459016</td><td>13.145946</td><td>   0.9</td><td>  65.9</td></tr>\n",
       "\t<tr><td>DC         </td><td>0</td><td>1</td><td>   NA</td><td>NA</td><td>NA               </td><td>  32.2</td><td>  49.5109290</td><td>48.925393</td><td>   6.9</td><td> 220.4</td></tr>\n",
       "\t<tr><td>ISI        </td><td>0</td><td>1</td><td>   NA</td><td>NA</td><td>NA               </td><td>   3.5</td><td>   4.7032787</td><td> 4.044735</td><td>   0.0</td><td>  19.0</td></tr>\n",
       "\t<tr><td>BUI        </td><td>0</td><td>1</td><td>   NA</td><td>NA</td><td>NA               </td><td>  11.8</td><td>  16.7945355</td><td>14.968618</td><td>   1.4</td><td>  68.0</td></tr>\n",
       "\t<tr><td>FWI        </td><td>0</td><td>1</td><td>   NA</td><td>NA</td><td>NA               </td><td>   4.7</td><td>   7.0426230</td><td> 7.511803</td><td>   0.0</td><td>  31.1</td></tr>\n",
       "</tbody>\n",
       "</table>\n"
      ],
      "text/latex": [
       "A tibble: 14 × 11\n",
       "\\begin{tabular}{lllllllllll}\n",
       " skim\\_variable & n\\_missing & complete\\_rate & factor.ordered & factor.n\\_unique & factor.top\\_counts & numeric.median & numeric.mean & numeric.sd & numeric.min & numeric.max\\\\\n",
       " <chr> & <int> & <dbl> & <lgl> & <int> & <chr> & <dbl> & <dbl> & <dbl> & <dbl> & <dbl>\\\\\n",
       "\\hline\n",
       "\t Classes     & 0 & 1 & FALSE &  2 & fir: 104, not: 79 &     NA &           NA &        NA &     NA &     NA\\\\\n",
       "\t day         & 0 & 1 &    NA & NA & NA                &   16.0 &   16.2622951 &  8.723283 &    1.0 &   31.0\\\\\n",
       "\t month       & 0 & 1 &    NA & NA & NA                &    8.0 &    7.5519126 &  1.122343 &    6.0 &    9.0\\\\\n",
       "\t year        & 0 & 1 &    NA & NA & NA                & 2012.0 & 2012.0000000 &  0.000000 & 2012.0 & 2012.0\\\\\n",
       "\t Temperature & 0 & 1 &    NA & NA & NA                &   32.0 &   31.9125683 &  3.558461 &   22.0 &   42.0\\\\\n",
       "\t RH          & 0 & 1 &    NA & NA & NA                &   64.0 &   62.4153005 & 14.480081 &   24.0 &   89.0\\\\\n",
       "\t Ws          & 0 & 1 &    NA & NA & NA                &   15.0 &   15.4699454 &  2.751208 &    6.0 &   26.0\\\\\n",
       "\t Rain        & 0 & 1 &    NA & NA & NA                &    0.0 &    0.7868852 &  1.965567 &    0.0 &   16.8\\\\\n",
       "\t FFMC        & 0 & 1 &    NA & NA & NA                &   83.8 &   77.7551913 & 14.384399 &   28.6 &   96.0\\\\\n",
       "\t DMC         & 0 & 1 &    NA & NA & NA                &   11.1 &   14.8459016 & 13.145946 &    0.9 &   65.9\\\\\n",
       "\t DC          & 0 & 1 &    NA & NA & NA                &   32.2 &   49.5109290 & 48.925393 &    6.9 &  220.4\\\\\n",
       "\t ISI         & 0 & 1 &    NA & NA & NA                &    3.5 &    4.7032787 &  4.044735 &    0.0 &   19.0\\\\\n",
       "\t BUI         & 0 & 1 &    NA & NA & NA                &   11.8 &   16.7945355 & 14.968618 &    1.4 &   68.0\\\\\n",
       "\t FWI         & 0 & 1 &    NA & NA & NA                &    4.7 &    7.0426230 &  7.511803 &    0.0 &   31.1\\\\\n",
       "\\end{tabular}\n"
      ],
      "text/markdown": [
       "\n",
       "A tibble: 14 × 11\n",
       "\n",
       "| skim_variable &lt;chr&gt; | n_missing &lt;int&gt; | complete_rate &lt;dbl&gt; | factor.ordered &lt;lgl&gt; | factor.n_unique &lt;int&gt; | factor.top_counts &lt;chr&gt; | numeric.median &lt;dbl&gt; | numeric.mean &lt;dbl&gt; | numeric.sd &lt;dbl&gt; | numeric.min &lt;dbl&gt; | numeric.max &lt;dbl&gt; |\n",
       "|---|---|---|---|---|---|---|---|---|---|---|\n",
       "| Classes     | 0 | 1 | FALSE |  2 | fir: 104, not: 79 |     NA |           NA |        NA |     NA |     NA |\n",
       "| day         | 0 | 1 |    NA | NA | NA                |   16.0 |   16.2622951 |  8.723283 |    1.0 |   31.0 |\n",
       "| month       | 0 | 1 |    NA | NA | NA                |    8.0 |    7.5519126 |  1.122343 |    6.0 |    9.0 |\n",
       "| year        | 0 | 1 |    NA | NA | NA                | 2012.0 | 2012.0000000 |  0.000000 | 2012.0 | 2012.0 |\n",
       "| Temperature | 0 | 1 |    NA | NA | NA                |   32.0 |   31.9125683 |  3.558461 |   22.0 |   42.0 |\n",
       "| RH          | 0 | 1 |    NA | NA | NA                |   64.0 |   62.4153005 | 14.480081 |   24.0 |   89.0 |\n",
       "| Ws          | 0 | 1 |    NA | NA | NA                |   15.0 |   15.4699454 |  2.751208 |    6.0 |   26.0 |\n",
       "| Rain        | 0 | 1 |    NA | NA | NA                |    0.0 |    0.7868852 |  1.965567 |    0.0 |   16.8 |\n",
       "| FFMC        | 0 | 1 |    NA | NA | NA                |   83.8 |   77.7551913 | 14.384399 |   28.6 |   96.0 |\n",
       "| DMC         | 0 | 1 |    NA | NA | NA                |   11.1 |   14.8459016 | 13.145946 |    0.9 |   65.9 |\n",
       "| DC          | 0 | 1 |    NA | NA | NA                |   32.2 |   49.5109290 | 48.925393 |    6.9 |  220.4 |\n",
       "| ISI         | 0 | 1 |    NA | NA | NA                |    3.5 |    4.7032787 |  4.044735 |    0.0 |   19.0 |\n",
       "| BUI         | 0 | 1 |    NA | NA | NA                |   11.8 |   16.7945355 | 14.968618 |    1.4 |   68.0 |\n",
       "| FWI         | 0 | 1 |    NA | NA | NA                |    4.7 |    7.0426230 |  7.511803 |    0.0 |   31.1 |\n",
       "\n"
      ],
      "text/plain": [
       "   skim_variable n_missing complete_rate factor.ordered factor.n_unique\n",
       "1  Classes       0         1             FALSE           2             \n",
       "2  day           0         1                NA          NA             \n",
       "3  month         0         1                NA          NA             \n",
       "4  year          0         1                NA          NA             \n",
       "5  Temperature   0         1                NA          NA             \n",
       "6  RH            0         1                NA          NA             \n",
       "7  Ws            0         1                NA          NA             \n",
       "8  Rain          0         1                NA          NA             \n",
       "9  FFMC          0         1                NA          NA             \n",
       "10 DMC           0         1                NA          NA             \n",
       "11 DC            0         1                NA          NA             \n",
       "12 ISI           0         1                NA          NA             \n",
       "13 BUI           0         1                NA          NA             \n",
       "14 FWI           0         1                NA          NA             \n",
       "   factor.top_counts numeric.median numeric.mean numeric.sd numeric.min\n",
       "1  fir: 104, not: 79     NA                   NA        NA      NA     \n",
       "2  NA                  16.0           16.2622951  8.723283     1.0     \n",
       "3  NA                   8.0            7.5519126  1.122343     6.0     \n",
       "4  NA                2012.0         2012.0000000  0.000000  2012.0     \n",
       "5  NA                  32.0           31.9125683  3.558461    22.0     \n",
       "6  NA                  64.0           62.4153005 14.480081    24.0     \n",
       "7  NA                  15.0           15.4699454  2.751208     6.0     \n",
       "8  NA                   0.0            0.7868852  1.965567     0.0     \n",
       "9  NA                  83.8           77.7551913 14.384399    28.6     \n",
       "10 NA                  11.1           14.8459016 13.145946     0.9     \n",
       "11 NA                  32.2           49.5109290 48.925393     6.9     \n",
       "12 NA                   3.5            4.7032787  4.044735     0.0     \n",
       "13 NA                  11.8           16.7945355 14.968618     1.4     \n",
       "14 NA                   4.7            7.0426230  7.511803     0.0     \n",
       "   numeric.max\n",
       "1      NA     \n",
       "2    31.0     \n",
       "3     9.0     \n",
       "4  2012.0     \n",
       "5    42.0     \n",
       "6    89.0     \n",
       "7    26.0     \n",
       "8    16.8     \n",
       "9    96.0     \n",
       "10   65.9     \n",
       "11  220.4     \n",
       "12   19.0     \n",
       "13   68.0     \n",
       "14   31.1     "
      ]
     },
     "metadata": {},
     "output_type": "display_data"
    }
   ],
   "source": [
    "# Setting a seed \n",
    "set.seed(2021)\n",
    "# Splitting the data set\n",
    "algerian_forest_fires_tidy <- mutate(algerian_forest_fires_tidy, Classes = as.factor(Classes))\n",
    "forest_split <- initial_split(algerian_forest_fires_tidy, prop = 0.75, strata = Classes)\n",
    "forest_train <- training(forest_split)\n",
    "forest_test <- testing(forest_split)\n",
    "\n",
    "# Specifying the summary function\n",
    "my_skim <- skim_with(numeric = sfl(median, mean,  sd, min, max),\n",
    "                                   append = FALSE)\n",
    "\n",
    "# Creating summary table\n",
    "summary_df <- my_skim(forest_train) %>% \n",
    "    tibble::as_tibble() %>% \n",
    "    select(skim_variable:numeric.max)\n",
    "summary_df"
   ]
  },
  {
   "cell_type": "code",
   "execution_count": 3,
   "metadata": {},
   "outputs": [
    {
     "ename": "ERROR",
     "evalue": "Error in select(forest_train, Temperature:Classes): could not find function \"select\"\n",
     "output_type": "error",
     "traceback": [
      "Error in select(forest_train, Temperature:Classes): could not find function \"select\"\nTraceback:\n"
     ]
    }
   ],
   "source": [
    "# Plot options\n",
    "options(repr.plot.width = 18, repr.plot.height= 18)\n",
    "# Removing the date data\n",
    "forest_train <- select(forest_train,Temperature:Classes)\n",
    "ggpairs(forest_train, columns = c(\"Temperature\",\"RH\",\"Ws\",\"Rain\",\"FFMC\",\"DMC\",\"DC\",\"ISI\",\"BUI\",\"FWI\"),\n",
    "        aes(colour = Classes))  +\n",
    "        theme(text = element_text(size = 18),\n",
    "              axis.text = element_text(size = 10))\n"
   ]
  },
  {
   "cell_type": "markdown",
   "metadata": {},
   "source": [
    "**Methods**"
   ]
  },
  {
   "cell_type": "markdown",
   "metadata": {},
   "source": [
    "\n",
    "The question we seek to answer falls under the **classification** category and in order to answer it, we have divided our dataset into a training set and a testing set. With the training set, we will create our _K-nearest classifier_ and use the DMC, BUI, DC as predictors. This classifier will then be used to predict the class labels of our test set and thereby determining the accuracy of it. <br>\n",
    "We chose these predictors specifically because while fire behavior is influenced by weather, the combustibility of forest fuel and fuel type play an important role as well which are represented by them. Lastly, we have used the ggpairs() function to build a scatterplot matrix which shows us pairwise plots using all columns of the dataset."
   ]
  },
  {
   "cell_type": "markdown",
   "metadata": {},
   "source": [
    "**Expected Outcomes and Significance**"
   ]
  },
  {
   "cell_type": "markdown",
   "metadata": {},
   "source": [
    "\n",
    "Through this project, we expect to find whether the following predictors **Duff Moisture Code (DMC), Drought Code (DC), Build Up Index (BUI)** can help us understand that  <br>_if we know the values of these predictors, whether a fire will occur or not_. <br>\n",
    "Since these predictor values are dependent on variables like  temperature, rain humidity and wind speed, which are calculated (for each day) and predicted (for upcoming days) by scientists, our classifier can help predict whether a certain region is prone to wildfires or not.  <br>\n",
    "As we, humans, fail to take actions against what causes these forest fires to happen so frequently, we need indicators which can help assist authorities in tackling this man-made disaster. Most importantly, this can help firefighters understand whether there is a possibility of a forest fire passing onto a different region (given region's predictors) and strategise accordingly.<br>\n",
    "One important question after proecessing the entire data above would be whether there are more factors we can consider which can help understand nature of fires better or do we go on building better models with the given predictors.\n"
   ]
  },
  {
   "cell_type": "code",
   "execution_count": null,
   "metadata": {},
   "outputs": [],
   "source": []
  },
  {
   "cell_type": "code",
   "execution_count": null,
   "metadata": {},
   "outputs": [],
   "source": []
  },
  {
   "cell_type": "code",
   "execution_count": null,
   "metadata": {},
   "outputs": [],
   "source": []
  }
 ],
 "metadata": {
  "kernelspec": {
   "display_name": "R",
   "language": "R",
   "name": "ir"
  },
  "language_info": {
   "codemirror_mode": "r",
   "file_extension": ".r",
   "mimetype": "text/x-r-source",
   "name": "R",
   "pygments_lexer": "r",
   "version": "4.0.0"
  }
 },
 "nbformat": 4,
 "nbformat_minor": 4
}
