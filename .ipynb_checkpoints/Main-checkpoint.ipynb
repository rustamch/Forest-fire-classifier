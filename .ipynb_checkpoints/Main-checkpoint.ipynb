{
 "cells": [
  {
   "cell_type": "markdown",
   "metadata": {},
   "source": [
    "<H1> Group 22: Project title <H1>"
   ]
  },
  {
   "cell_type": "markdown",
   "metadata": {},
   "source": [
    "**Introduction**<br>\n",
    "We have all seen the rise in number of forest fires in the past few years and scinetists and climate activists alike all over the world have raised their concerns regarding the same. While natural in few ecosystems, these recent forest fires root their cause to the global rise in temperature and poor land management by authorities. Due to this no matter whether a wildfire's origin is due to human intervention or natural, the drier climate makes it easy for it to spread over a region quite intensely. \n",
    "<br>\n",
    "These fires are clear indicators that for change because not only do they sometimes do irreparable damge to forest ecosystems but also the gases released due to these fires travel to the city causing health crises. While governments all over the world introduce initiatives to promote sustatinable practices and the general public abides by them, it is also important for scienitsts to know which forests are prone to fires. Through this project we intend to answer the question **_insert question_**.<br>\n"
   ]
  },
  {
   "cell_type": "markdown",
   "metadata": {},
   "source": [
    "To help answer this question, we make use of the Algerian Forest Fire Data Set which has 244 observations of 11 variables and 1 output colummn, which in this case tells us whether there was a fire or not. Let's take a look at what these variables are and how they help us indicate the chances of a forest fire.**(this part will be written once Method is completely written to see how many words can still fit)**."
   ]
  },
  {
   "cell_type": "markdown",
   "metadata": {},
   "source": [
    "**Methods**<br>"
   ]
  },
  {
   "cell_type": "markdown",
   "metadata": {},
   "source": [
    "**Expected outcomes and significance:**<br>\n",
    "Through this project, we expect to find whether the following predictors **insert predictors** can help us determine **insert question** (elaborate more on that)<br>\n",
    "As we, humans, fail to take actions against what causes these forest fires to happen so frequently, we need indicators which can help assist authorities in tackling this man-made disaster. Not only will these help firefighters understand whether there is a possibility of a forest fire passing onto a different region (given region's predictors) but also help scientists determine regions prone to fires.<br>\n",
    "One important question after proecessing the entire data above would be whether there are more factors we can consider which can help understand nature of fires better or do we go on building better models with the given predictors.\n"
   ]
  },
  {
   "cell_type": "markdown",
   "metadata": {},
   "source": [
    "(EDIT THAT)For this project, we make use of the Algerian Forest Fire Data Set which has 244 observations of 13 attributes and 1 output attribute, which in this case tells us whether there was a fire or not. <br>\n",
    "<H4> Data set used: </H4>\n",
    "Algerian forest fires: https://archive.ics.uci.edu/ml/machine-learning-databases/00547/Algerian_forest_fires_dataset_UPDATE.csv <br>\n",
    "This data set has 14 variables, thirteen of which are numerical and one is categorical."
   ]
  },
  {
   "cell_type": "markdown",
   "metadata": {},
   "source": [
    "<H2> Loading the data set into R and wrangling it </H2>"
   ]
  },
  {
   "cell_type": "code",
   "execution_count": 1,
   "metadata": {},
   "outputs": [
    {
     "name": "stderr",
     "output_type": "stream",
     "text": [
      "Updating HTML index of packages in '.Library'\n",
      "\n",
      "Making 'packages.html' ...\n",
      " done\n",
      "\n",
      "Warning message in install.packages(\"GGally\"):\n",
      "“installation of package ‘GGally’ had non-zero exit status”\n",
      "Updating HTML index of packages in '.Library'\n",
      "\n",
      "Making 'packages.html' ...\n",
      " done\n",
      "\n",
      "── \u001b[1mAttaching packages\u001b[22m ─────────────────────────────────────── tidyverse 1.3.0 ──\n",
      "\n",
      "\u001b[32m✔\u001b[39m \u001b[34mggplot2\u001b[39m 3.3.2     \u001b[32m✔\u001b[39m \u001b[34mpurrr  \u001b[39m 0.3.4\n",
      "\u001b[32m✔\u001b[39m \u001b[34mtibble \u001b[39m 3.0.3     \u001b[32m✔\u001b[39m \u001b[34mdplyr  \u001b[39m 1.0.2\n",
      "\u001b[32m✔\u001b[39m \u001b[34mtidyr  \u001b[39m 1.1.2     \u001b[32m✔\u001b[39m \u001b[34mstringr\u001b[39m 1.4.0\n",
      "\u001b[32m✔\u001b[39m \u001b[34mreadr  \u001b[39m 1.3.1     \u001b[32m✔\u001b[39m \u001b[34mforcats\u001b[39m 0.5.0\n",
      "\n",
      "Warning message:\n",
      "“package ‘ggplot2’ was built under R version 4.0.1”\n",
      "Warning message:\n",
      "“package ‘tibble’ was built under R version 4.0.2”\n",
      "Warning message:\n",
      "“package ‘tidyr’ was built under R version 4.0.2”\n",
      "Warning message:\n",
      "“package ‘dplyr’ was built under R version 4.0.2”\n",
      "── \u001b[1mConflicts\u001b[22m ────────────────────────────────────────── tidyverse_conflicts() ──\n",
      "\u001b[31m✖\u001b[39m \u001b[34mdplyr\u001b[39m::\u001b[32mfilter()\u001b[39m masks \u001b[34mstats\u001b[39m::filter()\n",
      "\u001b[31m✖\u001b[39m \u001b[34mdplyr\u001b[39m::\u001b[32mlag()\u001b[39m    masks \u001b[34mstats\u001b[39m::lag()\n",
      "\n",
      "Registered S3 method overwritten by 'GGally':\n",
      "  method from   \n",
      "  +.gg   ggplot2\n",
      "\n",
      "Warning message:\n",
      "“package ‘tidymodels’ was built under R version 4.0.2”\n",
      "── \u001b[1mAttaching packages\u001b[22m ────────────────────────────────────── tidymodels 0.1.1 ──\n",
      "\n",
      "\u001b[32m✔\u001b[39m \u001b[34mbroom    \u001b[39m 0.7.0      \u001b[32m✔\u001b[39m \u001b[34mrecipes  \u001b[39m 0.1.13\n",
      "\u001b[32m✔\u001b[39m \u001b[34mdials    \u001b[39m 0.0.9      \u001b[32m✔\u001b[39m \u001b[34mrsample  \u001b[39m 0.0.7 \n",
      "\u001b[32m✔\u001b[39m \u001b[34minfer    \u001b[39m 0.5.4      \u001b[32m✔\u001b[39m \u001b[34mtune     \u001b[39m 0.1.1 \n",
      "\u001b[32m✔\u001b[39m \u001b[34mmodeldata\u001b[39m 0.0.2      \u001b[32m✔\u001b[39m \u001b[34mworkflows\u001b[39m 0.2.0 \n",
      "\u001b[32m✔\u001b[39m \u001b[34mparsnip  \u001b[39m 0.1.3      \u001b[32m✔\u001b[39m \u001b[34myardstick\u001b[39m 0.0.7 \n",
      "\n",
      "Warning message:\n",
      "“package ‘broom’ was built under R version 4.0.2”\n",
      "Warning message:\n",
      "“package ‘dials’ was built under R version 4.0.2”\n",
      "Warning message:\n",
      "“package ‘infer’ was built under R version 4.0.3”\n",
      "Warning message:\n",
      "“package ‘modeldata’ was built under R version 4.0.1”\n",
      "Warning message:\n",
      "“package ‘parsnip’ was built under R version 4.0.2”\n",
      "Warning message:\n",
      "“package ‘recipes’ was built under R version 4.0.1”\n",
      "Warning message:\n",
      "“package ‘tune’ was built under R version 4.0.2”\n",
      "Warning message:\n",
      "“package ‘workflows’ was built under R version 4.0.2”\n",
      "Warning message:\n",
      "“package ‘yardstick’ was built under R version 4.0.2”\n",
      "── \u001b[1mConflicts\u001b[22m ───────────────────────────────────────── tidymodels_conflicts() ──\n",
      "\u001b[31m✖\u001b[39m \u001b[34mscales\u001b[39m::\u001b[32mdiscard()\u001b[39m masks \u001b[34mpurrr\u001b[39m::discard()\n",
      "\u001b[31m✖\u001b[39m \u001b[34mdplyr\u001b[39m::\u001b[32mfilter()\u001b[39m   masks \u001b[34mstats\u001b[39m::filter()\n",
      "\u001b[31m✖\u001b[39m \u001b[34mrecipes\u001b[39m::\u001b[32mfixed()\u001b[39m  masks \u001b[34mstringr\u001b[39m::fixed()\n",
      "\u001b[31m✖\u001b[39m \u001b[34mdplyr\u001b[39m::\u001b[32mlag()\u001b[39m      masks \u001b[34mstats\u001b[39m::lag()\n",
      "\u001b[31m✖\u001b[39m \u001b[34myardstick\u001b[39m::\u001b[32mspec()\u001b[39m masks \u001b[34mreadr\u001b[39m::spec()\n",
      "\u001b[31m✖\u001b[39m \u001b[34mrecipes\u001b[39m::\u001b[32mstep()\u001b[39m   masks \u001b[34mstats\u001b[39m::step()\n",
      "\n"
     ]
    }
   ],
   "source": [
    "install.packages(\"skimr\")\n",
    "install.packages(\"GGally\")\n",
    "library(tidyverse)\n",
    "library(repr)\n",
    "library(GGally)\n",
    "library(tidymodels)\n",
    "library(skimr)"
   ]
  },
  {
   "cell_type": "code",
   "execution_count": 24,
   "metadata": {},
   "outputs": [
    {
     "name": "stderr",
     "output_type": "stream",
     "text": [
      "Parsed with column specification:\n",
      "cols(\n",
      "  day = \u001b[31mcol_character()\u001b[39m,\n",
      "  month = \u001b[31mcol_character()\u001b[39m,\n",
      "  year = \u001b[31mcol_character()\u001b[39m,\n",
      "  Temperature = \u001b[31mcol_character()\u001b[39m,\n",
      "  RH = \u001b[31mcol_character()\u001b[39m,\n",
      "  Ws = \u001b[31mcol_character()\u001b[39m,\n",
      "  Rain = \u001b[31mcol_character()\u001b[39m,\n",
      "  FFMC = \u001b[31mcol_character()\u001b[39m,\n",
      "  DMC = \u001b[31mcol_character()\u001b[39m,\n",
      "  DC = \u001b[31mcol_character()\u001b[39m,\n",
      "  ISI = \u001b[31mcol_character()\u001b[39m,\n",
      "  BUI = \u001b[31mcol_character()\u001b[39m,\n",
      "  FWI = \u001b[31mcol_character()\u001b[39m,\n",
      "  Classes = \u001b[31mcol_character()\u001b[39m\n",
      ")\n",
      "\n",
      "Warning message:\n",
      "“2 parsing failures.\n",
      "row col   expected     actual                                                                                                       file\n",
      "123  -- 14 columns 1 columns  'https://archive.ics.uci.edu/ml/machine-learning-databases/00547/Algerian_forest_fires_dataset_UPDATE.csv'\n",
      "168  -- 14 columns 13 columns 'https://archive.ics.uci.edu/ml/machine-learning-databases/00547/Algerian_forest_fires_dataset_UPDATE.csv'\n",
      "”\n"
     ]
    }
   ],
   "source": [
    "# URL that contains the dataframe that we want to examine\n",
    "url <- \"https://archive.ics.uci.edu/ml/machine-learning-databases/00547/Algerian_forest_fires_dataset_UPDATE.csv\"\n",
    "\n",
    "# Reading dataframe into R\n",
    "algerian_forest_fires <- read_csv(url,skip = 1)\n",
    "\n",
    "# Examining the data frame\n",
    "# algerian_forest_data\n",
    "\n",
    "# Inspecting the parsing failures\n",
    "\n",
    "# algerian_forest_fires[168, 1:14]  -- Empty row between two data sets\n",
    "\n",
    "# algerian_forest_fires[168, 1:14] -- Needs to be fixed\n",
    "\n",
    "algerian_forest_fires[168, 10] = '14.6'\n",
    "algerian_forest_fires[168, 11] =  '9'\n",
    "algerian_forest_fires[168, 12] =  '12.5'\n",
    "algerian_forest_fires[168, 13] =  '10.4'\n",
    "algerian_forest_fires[168, 14] =  \"fire\""
   ]
  },
  {
   "cell_type": "markdown",
   "metadata": {},
   "source": [
    "<H3> After a quick examination we can see that:</H3>\n",
    "    <li> File that we read contains 2 dataframes.</li>\n",
    "    <li> The collumn types of the data set are not parsed correctly.</li>\n",
    "    <li> We know that there is something causing parsing issues in the rows : 123 and 168.</li> \n",
    "<p> To extract the target data frame, we would need to split the file into 2 dataframes that it contains, tidy each dataframe and join them </p>"
   ]
  },
  {
   "cell_type": "markdown",
   "metadata": {},
   "source": [
    "<H4>Extracting and tidying Bejaja region data set</H4>"
   ]
  },
  {
   "cell_type": "code",
   "execution_count": 25,
   "metadata": {},
   "outputs": [],
   "source": [
    "# Retrieving the bejaja data set\n",
    "bejaja_forest <- slice(algerian_forest_fires, 2:122)\n",
    "\n",
    "#Fixing the collumn types of the numerical variables\n",
    "bejaja_forest_data <- bejaja_forest %>% \n",
    "    select(day:FWI) %>% \n",
    "    map_df(as.double) \n",
    "\n",
    "# Selecting the observation class data\n",
    "bejaja_forest_fires <- bejaja_forest %>% \n",
    "    select(Classes) \n",
    "\n",
    "# Joining numerical variable and observation class data \n",
    "bejaja_forest_tidy <- cbind(bejaja_forest_data,bejaja_forest_fires)\n",
    "#head(bejaja_forest_tidy)"
   ]
  },
  {
   "cell_type": "markdown",
   "metadata": {},
   "source": [
    "<H4>Extracting and tidying Sidi-Bel region data set</H4>"
   ]
  },
  {
   "cell_type": "code",
   "execution_count": 26,
   "metadata": {},
   "outputs": [],
   "source": [
    "#Finding the number of rows in the original dataset\n",
    "number_of_rows <- nrow(algerian_forest_fires)\n",
    "\n",
    "# Retrieving the bejaja data set\n",
    "sidi_bel_forest <- slice(algerian_forest_fires, 125:number_of_rows)\n",
    "\n",
    "gsub_convert <- function(x) {\n",
    "    as.double(gsub(\",\",\".\",x))\n",
    "}\n",
    "#Fixing the collumn types of the numerical variables\n",
    "sidi_bel_forest_data <- sidi_bel_forest %>% \n",
    "    select(day:FWI) %>% \n",
    "    map_df(gsub_convert)\n",
    "\n",
    "\n",
    "# Selecting the observation class data\n",
    "sidi_bel_forest_fires <- sidi_bel_forest %>% \n",
    "    select(Classes)\n",
    "\n",
    "# Joining numerical variable and observation class data \n",
    "sidi_bel_forest_tidy <- cbind(sidi_bel_forest_data,sidi_bel_forest_fires)"
   ]
  },
  {
   "cell_type": "markdown",
   "metadata": {},
   "source": [
    "<H4>Joining our two new dataframes</H4> "
   ]
  },
  {
   "cell_type": "code",
   "execution_count": 27,
   "metadata": {},
   "outputs": [
    {
     "name": "stderr",
     "output_type": "stream",
     "text": [
      "Joining, by = c(\"day\", \"month\", \"year\", \"Temperature\", \"RH\", \"Ws\", \"Rain\", \"FFMC\", \"DMC\", \"DC\", \"ISI\", \"BUI\", \"FWI\", \"Classes\")\n",
      "\n"
     ]
    }
   ],
   "source": [
    "algerian_forest_fires_tidy <- full_join(bejaja_forest_tidy, sidi_bel_forest_tidy)\n",
    "#algerian_forest_fires_tidy\n",
    "\n",
    "# The resulting data frame is tidy and ready for the further analysis"
   ]
  },
  {
   "cell_type": "code",
   "execution_count": 60,
   "metadata": {},
   "outputs": [
    {
     "ename": "ERROR",
     "evalue": "Error in colMeans(x, na.rm = TRUE): 'x' must be numeric\n",
     "output_type": "error",
     "traceback": [
      "Error in colMeans(x, na.rm = TRUE): 'x' must be numeric\nTraceback:\n",
      "1. mutate(algerian_forest_fires_tidy, Classes = as.factor(Classes)) %>% \n .     map_df(scale(., center = TRUE, scale = TRUE))",
      "2. withVisible(eval(quote(`_fseq`(`_lhs`)), env, env))",
      "3. eval(quote(`_fseq`(`_lhs`)), env, env)",
      "4. eval(quote(`_fseq`(`_lhs`)), env, env)",
      "5. `_fseq`(`_lhs`)",
      "6. freduce(value, `_function_list`)",
      "7. withVisible(function_list[[k]](value))",
      "8. function_list[[k]](value)",
      "9. map_df(., scale(., center = TRUE, scale = TRUE))",
      "10. as_mapper(.f, ...)",
      "11. scale(., center = TRUE, scale = TRUE)",
      "12. scale.default(., center = TRUE, scale = TRUE)",
      "13. colMeans(x, na.rm = TRUE)"
     ]
    }
   ],
   "source": [
    "# Setting a seed \n",
    "set.seed(2000)\n",
    "# Splitting the data set\n",
    "algerian_forest_fires_tidy <- mutate(algerian_forest_fires_tidy, Classes = as.factor(Classes)) %>% \n",
    "forest_split <- initial_split(algerian_forest_fires_tidy, prop = 0.75, strata = Classes)\n",
    "forest_train <- training(forest_split)\n",
    "forest_test <- testing(forest_split)\n",
    "\n",
    "# Specifying the summary function\n",
    "my_skim <- skim_with(numeric = sfl(median, mean,  sd, min, max),\n",
    "                                   append = FALSE)\n",
    "\n",
    "# Creating summary table\n",
    "summary_df <- my_skim(forest_train) %>% \n",
    "    tibble::as_tibble() %>% \n",
    "    select(skim_variable:numeric.max)\n",
    "summary_df"
   ]
  },
  {
   "cell_type": "code",
   "execution_count": 64,
   "metadata": {},
   "outputs": [
    {
     "data": {
      "text/html": [],
      "text/latex": [],
      "text/markdown": [],
      "text/plain": [
       "<0 x 0 matrix>"
      ]
     },
     "metadata": {},
     "output_type": "display_data"
    }
   ],
   "source": [
    "# Plot options\n",
    "options(repr.plot.width = 18, repr.plot.height= 18)\n",
    "# Removing the date data\n",
    "forest_train <- select(forest_train,Temperature:Classes)\n",
    "num_data <- select(forest_train,Temperature:FWI) %>% \n",
    "    map_df(scale(., center = TRUE, scale = TRUE))\n",
    "\n",
    "num_data\n",
    "# ggpairs(forest_train, columns = c(\"Temperature\",\"RH\",\"Ws\",\"Rain\",\"FFMC\",\"DMC\",\"DC\",\"ISI\",\"BUI\",\"FWI\"),\n",
    "#         aes(colour = Classes))  +\n",
    "#     theme(text = element_text(size = 18),\n",
    "#           axis.text = element_text(size = 10))\n"
   ]
  },
  {
   "cell_type": "code",
   "execution_count": null,
   "metadata": {},
   "outputs": [],
   "source": []
  },
  {
   "cell_type": "code",
   "execution_count": null,
   "metadata": {},
   "outputs": [],
   "source": []
  },
  {
   "cell_type": "code",
   "execution_count": null,
   "metadata": {},
   "outputs": [],
   "source": []
  }
 ],
 "metadata": {
  "kernelspec": {
   "display_name": "R",
   "language": "R",
   "name": "ir"
  },
  "language_info": {
   "codemirror_mode": "r",
   "file_extension": ".r",
   "mimetype": "text/x-r-source",
   "name": "R",
   "pygments_lexer": "r",
   "version": "4.0.0"
  }
 },
 "nbformat": 4,
 "nbformat_minor": 4
}
