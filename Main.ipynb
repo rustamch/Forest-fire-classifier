{
 "cells": [
  {
   "cell_type": "markdown",
   "metadata": {},
   "source": [
    "<H1> Hello World <H1>"
   ]
  },
  {
   "cell_type": "code",
   "execution_count": null,
   "metadata": {},
   "outputs": [],
   "source": []
  },
  {
   "cell_type": "code",
   "execution_count": 104,
   "metadata": {},
   "outputs": [
    {
     "name": "stderr",
     "output_type": "stream",
     "text": [
      "Updating HTML index of packages in '.Library'\n",
      "\n",
      "Making 'packages.html' ...\n",
      " done\n",
      "\n"
     ]
    }
   ],
   "source": [
    "install.packages(\"skimr\")\n",
    "library(tidyverse)\n",
    "library(tidymodels)\n",
    "library(skimr)"
   ]
  },
  {
   "cell_type": "markdown",
   "metadata": {},
   "source": [
    "<H2> Loading the data set into R and wrangling it </H2>"
   ]
  },
  {
   "cell_type": "code",
   "execution_count": 105,
   "metadata": {},
   "outputs": [
    {
     "name": "stderr",
     "output_type": "stream",
     "text": [
      "Parsed with column specification:\n",
      "cols(\n",
      "  day = \u001b[31mcol_character()\u001b[39m,\n",
      "  month = \u001b[31mcol_character()\u001b[39m,\n",
      "  year = \u001b[31mcol_character()\u001b[39m,\n",
      "  Temperature = \u001b[31mcol_character()\u001b[39m,\n",
      "  RH = \u001b[31mcol_character()\u001b[39m,\n",
      "  Ws = \u001b[31mcol_character()\u001b[39m,\n",
      "  Rain = \u001b[31mcol_character()\u001b[39m,\n",
      "  FFMC = \u001b[31mcol_character()\u001b[39m,\n",
      "  DMC = \u001b[31mcol_character()\u001b[39m,\n",
      "  DC = \u001b[31mcol_character()\u001b[39m,\n",
      "  ISI = \u001b[31mcol_character()\u001b[39m,\n",
      "  BUI = \u001b[31mcol_character()\u001b[39m,\n",
      "  FWI = \u001b[31mcol_character()\u001b[39m,\n",
      "  Classes = \u001b[31mcol_character()\u001b[39m\n",
      ")\n",
      "\n",
      "Warning message:\n",
      "“2 parsing failures.\n",
      "row col   expected     actual                                                                                                       file\n",
      "123  -- 14 columns 1 columns  'https://archive.ics.uci.edu/ml/machine-learning-databases/00547/Algerian_forest_fires_dataset_UPDATE.csv'\n",
      "168  -- 14 columns 13 columns 'https://archive.ics.uci.edu/ml/machine-learning-databases/00547/Algerian_forest_fires_dataset_UPDATE.csv'\n",
      "”\n"
     ]
    }
   ],
   "source": [
    "# URL that contains the dataframe that we want to examine\n",
    "url <- \"https://archive.ics.uci.edu/ml/machine-learning-databases/00547/Algerian_forest_fires_dataset_UPDATE.csv\"\n",
    "\n",
    "# Reading dataframe into R\n",
    "algerian_forest_fires <- read_csv(url,skip = 1)\n",
    "\n",
    "# Examining the data frame\n",
    "# algerian_forest_data"
   ]
  },
  {
   "cell_type": "markdown",
   "metadata": {},
   "source": [
    "<H3> After a quick examination we can see that:</H3>\n",
    "    <li> File that we read contains 2 dataframes.</li>\n",
    "    <li> The collumn types of the data set are not parsed correctly.</li>\n",
    "    <li> We know that there is something causing parsing issues in the rows : 123 and 168.</li> \n",
    "<p> To extract the target data frame, we would need to split the file into 2 dataframes that it contains, tidy each dataframe and join them </p>"
   ]
  },
  {
   "cell_type": "markdown",
   "metadata": {},
   "source": [
    "<H4>Extracting and tidying Bejaja region data set</H4>"
   ]
  },
  {
   "cell_type": "code",
   "execution_count": 106,
   "metadata": {},
   "outputs": [],
   "source": [
    "# Retrieving the bejaja data set\n",
    "bejaja_forest <- slice(algerian_forest_fires, 2:122)\n",
    "\n",
    "#Fixing the collumn types of the numerical variables\n",
    "bejaja_forest_data <- bejaja_forest %>% \n",
    "    select(day:FWI) %>% \n",
    "    map_df(as.numeric) \n",
    "\n",
    "# Selecting the observation class data\n",
    "bejaja_forest_fires <- bejaja_forest %>% \n",
    "    select(Classes) \n",
    "\n",
    "# Joining numerical variable and observation class data \n",
    "bejaja_forest_tidy <- cbind(bejaja_forest_data,bejaja_forest_fires)\n",
    "# head(bejaja_forest_tidy)"
   ]
  },
  {
   "cell_type": "markdown",
   "metadata": {},
   "source": [
    "<H4>Extracting and tidying Sidi-Bel region data set</H4>"
   ]
  },
  {
   "cell_type": "code",
   "execution_count": 107,
   "metadata": {},
   "outputs": [
    {
     "name": "stderr",
     "output_type": "stream",
     "text": [
      "Warning message in .Primitive(\"as.double\")(x, ...):\n",
      "“NAs introduced by coercion”\n",
      "Warning message in .Primitive(\"as.double\")(x, ...):\n",
      "“NAs introduced by coercion”\n"
     ]
    }
   ],
   "source": [
    "#Finding the number of rows in the original dataset\n",
    "number_of_rows <- nrow(algerian_forest_fires)\n",
    "\n",
    "# Retrieving the bejaja data set\n",
    "sidi_bel_forest <- slice(algerian_forest_fires, 125:number_of_rows)\n",
    "\n",
    "#Fixing the collumn types of the numerical variables\n",
    "sidi_bel_forest_data <- sidi_bel_forest %>% \n",
    "    select(day:FWI) %>% \n",
    "    map_df(as.numeric)  \n",
    "\n",
    "# Selecting the observation class data\n",
    "sidi_bel_forest_fires <- sidi_bel_forest %>% \n",
    "    select(Classes)\n",
    "\n",
    "# Joining numerical variable and observation class data \n",
    "sidi_bel_forest_tidy <- cbind(sidi_bel_forest_data,sidi_bel_forest_fires)"
   ]
  },
  {
   "cell_type": "markdown",
   "metadata": {},
   "source": [
    "<H4>Joining our two new dataframes</H4> "
   ]
  },
  {
   "cell_type": "code",
   "execution_count": 108,
   "metadata": {},
   "outputs": [
    {
     "name": "stderr",
     "output_type": "stream",
     "text": [
      "Joining, by = c(\"day\", \"month\", \"year\", \"Temperature\", \"RH\", \"Ws\", \"Rain\", \"FFMC\", \"DMC\", \"DC\", \"ISI\", \"BUI\", \"FWI\", \"Classes\")\n",
      "\n"
     ]
    }
   ],
   "source": [
    "algerian_forest_fires_tidy <- full_join(bejaja_forest_tidy, sidi_bel_forest_tidy)\n",
    "# algerian_forest_fires_tidy\n",
    "# The resulting data frame is tidy and ready for the further analysis"
   ]
  },
  {
   "cell_type": "code",
   "execution_count": 135,
   "metadata": {},
   "outputs": [
    {
     "data": {
      "text/html": [
       "<table>\n",
       "<caption>A tibble: 14 × 8</caption>\n",
       "<thead>\n",
       "\t<tr><th scope=col>skim_variable</th><th scope=col>n_missing</th><th scope=col>complete_rate</th><th scope=col>factor.ordered</th><th scope=col>factor.n_unique</th><th scope=col>factor.top_counts</th><th scope=col>numeric.mean</th><th scope=col>numeric.sd</th></tr>\n",
       "\t<tr><th scope=col>&lt;chr&gt;</th><th scope=col>&lt;int&gt;</th><th scope=col>&lt;dbl&gt;</th><th scope=col>&lt;lgl&gt;</th><th scope=col>&lt;int&gt;</th><th scope=col>&lt;chr&gt;</th><th scope=col>&lt;dbl&gt;</th><th scope=col>&lt;dbl&gt;</th></tr>\n",
       "</thead>\n",
       "<tbody>\n",
       "\t<tr><td>Classes    </td><td>1</td><td>0.9958848</td><td>FALSE</td><td> 2</td><td>fir: 137, not: 105</td><td>         NA</td><td>       NA</td></tr>\n",
       "\t<tr><td>day        </td><td>0</td><td>1.0000000</td><td>   NA</td><td>NA</td><td>NA                </td><td>  15.814815</td><td> 8.792058</td></tr>\n",
       "\t<tr><td>month      </td><td>0</td><td>1.0000000</td><td>   NA</td><td>NA</td><td>NA                </td><td>   7.506173</td><td> 1.111065</td></tr>\n",
       "\t<tr><td>year       </td><td>0</td><td>1.0000000</td><td>   NA</td><td>NA</td><td>NA                </td><td>2012.000000</td><td> 0.000000</td></tr>\n",
       "\t<tr><td>Temperature</td><td>0</td><td>1.0000000</td><td>   NA</td><td>NA</td><td>NA                </td><td>  32.185185</td><td> 3.635606</td></tr>\n",
       "\t<tr><td>RH         </td><td>0</td><td>1.0000000</td><td>   NA</td><td>NA</td><td>NA                </td><td>  61.958848</td><td>14.911528</td></tr>\n",
       "\t<tr><td>Ws         </td><td>0</td><td>1.0000000</td><td>   NA</td><td>NA</td><td>NA                </td><td>  15.493827</td><td> 2.811385</td></tr>\n",
       "\t<tr><td>Rain       </td><td>0</td><td>1.0000000</td><td>   NA</td><td>NA</td><td>NA                </td><td>   0.763786</td><td> 2.002933</td></tr>\n",
       "\t<tr><td>FFMC       </td><td>0</td><td>1.0000000</td><td>   NA</td><td>NA</td><td>NA                </td><td>  77.937860</td><td>14.345698</td></tr>\n",
       "\t<tr><td>DMC        </td><td>0</td><td>1.0000000</td><td>   NA</td><td>NA</td><td>NA                </td><td>  14.719753</td><td>12.372274</td></tr>\n",
       "\t<tr><td>DC         </td><td>1</td><td>0.9958848</td><td>   NA</td><td>NA</td><td>NA                </td><td>  49.603719</td><td>47.688015</td></tr>\n",
       "\t<tr><td>ISI        </td><td>0</td><td>1.0000000</td><td>   NA</td><td>NA</td><td>NA                </td><td>   4.788477</td><td> 4.177947</td></tr>\n",
       "\t<tr><td>BUI        </td><td>0</td><td>1.0000000</td><td>   NA</td><td>NA</td><td>NA                </td><td>  16.719342</td><td>14.208474</td></tr>\n",
       "\t<tr><td>FWI        </td><td>1</td><td>0.9958848</td><td>   NA</td><td>NA</td><td>NA                </td><td>   7.062397</td><td> 7.444045</td></tr>\n",
       "</tbody>\n",
       "</table>\n"
      ],
      "text/latex": [
       "A tibble: 14 × 8\n",
       "\\begin{tabular}{llllllll}\n",
       " skim\\_variable & n\\_missing & complete\\_rate & factor.ordered & factor.n\\_unique & factor.top\\_counts & numeric.mean & numeric.sd\\\\\n",
       " <chr> & <int> & <dbl> & <lgl> & <int> & <chr> & <dbl> & <dbl>\\\\\n",
       "\\hline\n",
       "\t Classes     & 1 & 0.9958848 & FALSE &  2 & fir: 137, not: 105 &          NA &        NA\\\\\n",
       "\t day         & 0 & 1.0000000 &    NA & NA & NA                 &   15.814815 &  8.792058\\\\\n",
       "\t month       & 0 & 1.0000000 &    NA & NA & NA                 &    7.506173 &  1.111065\\\\\n",
       "\t year        & 0 & 1.0000000 &    NA & NA & NA                 & 2012.000000 &  0.000000\\\\\n",
       "\t Temperature & 0 & 1.0000000 &    NA & NA & NA                 &   32.185185 &  3.635606\\\\\n",
       "\t RH          & 0 & 1.0000000 &    NA & NA & NA                 &   61.958848 & 14.911528\\\\\n",
       "\t Ws          & 0 & 1.0000000 &    NA & NA & NA                 &   15.493827 &  2.811385\\\\\n",
       "\t Rain        & 0 & 1.0000000 &    NA & NA & NA                 &    0.763786 &  2.002933\\\\\n",
       "\t FFMC        & 0 & 1.0000000 &    NA & NA & NA                 &   77.937860 & 14.345698\\\\\n",
       "\t DMC         & 0 & 1.0000000 &    NA & NA & NA                 &   14.719753 & 12.372274\\\\\n",
       "\t DC          & 1 & 0.9958848 &    NA & NA & NA                 &   49.603719 & 47.688015\\\\\n",
       "\t ISI         & 0 & 1.0000000 &    NA & NA & NA                 &    4.788477 &  4.177947\\\\\n",
       "\t BUI         & 0 & 1.0000000 &    NA & NA & NA                 &   16.719342 & 14.208474\\\\\n",
       "\t FWI         & 1 & 0.9958848 &    NA & NA & NA                 &    7.062397 &  7.444045\\\\\n",
       "\\end{tabular}\n"
      ],
      "text/markdown": [
       "\n",
       "A tibble: 14 × 8\n",
       "\n",
       "| skim_variable &lt;chr&gt; | n_missing &lt;int&gt; | complete_rate &lt;dbl&gt; | factor.ordered &lt;lgl&gt; | factor.n_unique &lt;int&gt; | factor.top_counts &lt;chr&gt; | numeric.mean &lt;dbl&gt; | numeric.sd &lt;dbl&gt; |\n",
       "|---|---|---|---|---|---|---|---|\n",
       "| Classes     | 1 | 0.9958848 | FALSE |  2 | fir: 137, not: 105 |          NA |        NA |\n",
       "| day         | 0 | 1.0000000 |    NA | NA | NA                 |   15.814815 |  8.792058 |\n",
       "| month       | 0 | 1.0000000 |    NA | NA | NA                 |    7.506173 |  1.111065 |\n",
       "| year        | 0 | 1.0000000 |    NA | NA | NA                 | 2012.000000 |  0.000000 |\n",
       "| Temperature | 0 | 1.0000000 |    NA | NA | NA                 |   32.185185 |  3.635606 |\n",
       "| RH          | 0 | 1.0000000 |    NA | NA | NA                 |   61.958848 | 14.911528 |\n",
       "| Ws          | 0 | 1.0000000 |    NA | NA | NA                 |   15.493827 |  2.811385 |\n",
       "| Rain        | 0 | 1.0000000 |    NA | NA | NA                 |    0.763786 |  2.002933 |\n",
       "| FFMC        | 0 | 1.0000000 |    NA | NA | NA                 |   77.937860 | 14.345698 |\n",
       "| DMC         | 0 | 1.0000000 |    NA | NA | NA                 |   14.719753 | 12.372274 |\n",
       "| DC          | 1 | 0.9958848 |    NA | NA | NA                 |   49.603719 | 47.688015 |\n",
       "| ISI         | 0 | 1.0000000 |    NA | NA | NA                 |    4.788477 |  4.177947 |\n",
       "| BUI         | 0 | 1.0000000 |    NA | NA | NA                 |   16.719342 | 14.208474 |\n",
       "| FWI         | 1 | 0.9958848 |    NA | NA | NA                 |    7.062397 |  7.444045 |\n",
       "\n"
      ],
      "text/plain": [
       "   skim_variable n_missing complete_rate factor.ordered factor.n_unique\n",
       "1  Classes       1         0.9958848     FALSE           2             \n",
       "2  day           0         1.0000000        NA          NA             \n",
       "3  month         0         1.0000000        NA          NA             \n",
       "4  year          0         1.0000000        NA          NA             \n",
       "5  Temperature   0         1.0000000        NA          NA             \n",
       "6  RH            0         1.0000000        NA          NA             \n",
       "7  Ws            0         1.0000000        NA          NA             \n",
       "8  Rain          0         1.0000000        NA          NA             \n",
       "9  FFMC          0         1.0000000        NA          NA             \n",
       "10 DMC           0         1.0000000        NA          NA             \n",
       "11 DC            1         0.9958848        NA          NA             \n",
       "12 ISI           0         1.0000000        NA          NA             \n",
       "13 BUI           0         1.0000000        NA          NA             \n",
       "14 FWI           1         0.9958848        NA          NA             \n",
       "   factor.top_counts  numeric.mean numeric.sd\n",
       "1  fir: 137, not: 105          NA         NA \n",
       "2  NA                   15.814815   8.792058 \n",
       "3  NA                    7.506173   1.111065 \n",
       "4  NA                 2012.000000   0.000000 \n",
       "5  NA                   32.185185   3.635606 \n",
       "6  NA                   61.958848  14.911528 \n",
       "7  NA                   15.493827   2.811385 \n",
       "8  NA                    0.763786   2.002933 \n",
       "9  NA                   77.937860  14.345698 \n",
       "10 NA                   14.719753  12.372274 \n",
       "11 NA                   49.603719  47.688015 \n",
       "12 NA                    4.788477   4.177947 \n",
       "13 NA                   16.719342  14.208474 \n",
       "14 NA                    7.062397   7.444045 "
      ]
     },
     "metadata": {},
     "output_type": "display_data"
    }
   ],
   "source": [
    "algerian_forest_fires_tidy <- mutate(algerian_forest_fires_tidy, Classes = as.factor(Classes))\n",
    "summary_df <-  skim(algerian_forest_fires_tidy) %>% \n",
    "    tibble::as_tibble() %>% \n",
    "    select(skim_variable:numeric.sd)\n",
    "summary_df"
   ]
  },
  {
   "cell_type": "code",
   "execution_count": 110,
   "metadata": {},
   "outputs": [
    {
     "name": "stderr",
     "output_type": "stream",
     "text": [
      "Warning message:\n",
      "“Removed 1 rows containing missing values (geom_point).”\n"
     ]
    },
    {
     "data": {
      "image/png": "[encoded data removed]",
      "text/plain": [
       "plot without title"
      ]
     },
     "metadata": {
      "image/png": {
       "height": 420,
       "width": 420
      }
     },
     "output_type": "display_data"
    }
   ],
   "source": [
    "algerian_forest_plot <- algerian_forest_fires_tidy %>% \n",
    "    ggplot(aes(x = DC, y = Ws, color = Classes)) +\n",
    "        geom_point()\n",
    "algerian_forest_plot"
   ]
  },
  {
   "cell_type": "code",
   "execution_count": null,
   "metadata": {},
   "outputs": [],
   "source": []
  },
  {
   "cell_type": "code",
   "execution_count": null,
   "metadata": {},
   "outputs": [],
   "source": []
  },
  {
   "cell_type": "code",
   "execution_count": null,
   "metadata": {},
   "outputs": [],
   "source": []
  }
 ],
 "metadata": {
  "kernelspec": {
   "display_name": "R",
   "language": "R",
   "name": "ir"
  },
  "language_info": {
   "codemirror_mode": "r",
   "file_extension": ".r",
   "mimetype": "text/x-r-source",
   "name": "R",
   "pygments_lexer": "r",
   "version": "4.0.0"
  }
 },
 "nbformat": 4,
 "nbformat_minor": 4
}
