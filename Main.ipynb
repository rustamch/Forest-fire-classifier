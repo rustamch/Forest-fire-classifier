{
 "cells": [
  {
   "cell_type": "markdown",
   "metadata": {},
   "source": [
    "# Group 22: Predicting Algerian Forest Fires #"
   ]
  },
  {
   "cell_type": "markdown",
   "metadata": {},
   "source": [
    "## Introduction ##\n",
    "We have all seen the rise in the number of forest fires in the past few years, and scientists and climate activists worldwide have raised their concerns. While natural in few ecosystems, these recent forest fires root their cause to the global rise in temperature and poor land management by authorities. Due to this, no matter whether a wildfire's origin is due to human intervention or natural, the drier climate makes it easy for a fire to spread over a region quite intensely.<br>\n",
    "These fires are a clear call for change because they can result in irreparable damage to forest ecosystems. The gases released due to these fires travel to the city, causing health crises. While governments worldwide introduce initiatives to promote sustainable practices and the general public abides by them, it is also vital for scientists to know which forests are prone to fires. Through this project, we intend to answer the question: \"Can we predict a wildfire in this Algerian forests based on given data?\"<br>"
   ]
  },
  {
   "cell_type": "markdown",
   "metadata": {},
   "source": [
    "### Data set used:\n",
    "Algerian forest fires: https://archive.ics.uci.edu/ml/machine-learning-databases/00547/Algerian_forest_fires_dataset_UPDATE.csv<br>\n",
    "This data set has fourteen variables, thirteen of which are numerical, and one is categorical, along with 243 observations."
   ]
  },
  {
   "cell_type": "markdown",
   "metadata": {},
   "source": [
    "## Loading the data set into R and wrangling it"
   ]
  },
  {
   "cell_type": "code",
   "execution_count": 5,
   "metadata": {},
   "outputs": [
    {
     "name": "stderr",
     "output_type": "stream",
     "text": [
      "── \u001b[1mAttaching packages\u001b[22m ─────────────────────────────────────── tidyverse 1.3.0 ──\n",
      "\n",
      "\u001b[32m✔\u001b[39m \u001b[34mggplot2\u001b[39m 3.3.2     \u001b[32m✔\u001b[39m \u001b[34mpurrr  \u001b[39m 0.3.4\n",
      "\u001b[32m✔\u001b[39m \u001b[34mtibble \u001b[39m 3.0.3     \u001b[32m✔\u001b[39m \u001b[34mdplyr  \u001b[39m 1.0.2\n",
      "\u001b[32m✔\u001b[39m \u001b[34mtidyr  \u001b[39m 1.1.2     \u001b[32m✔\u001b[39m \u001b[34mstringr\u001b[39m 1.4.0\n",
      "\u001b[32m✔\u001b[39m \u001b[34mreadr  \u001b[39m 1.3.1     \u001b[32m✔\u001b[39m \u001b[34mforcats\u001b[39m 0.5.0\n",
      "\n",
      "Warning message:\n",
      "“package ‘ggplot2’ was built under R version 4.0.1”\n",
      "Warning message:\n",
      "“package ‘tibble’ was built under R version 4.0.2”\n",
      "Warning message:\n",
      "“package ‘tidyr’ was built under R version 4.0.2”\n",
      "Warning message:\n",
      "“package ‘dplyr’ was built under R version 4.0.2”\n",
      "── \u001b[1mConflicts\u001b[22m ────────────────────────────────────────── tidyverse_conflicts() ──\n",
      "\u001b[31m✖\u001b[39m \u001b[34mdplyr\u001b[39m::\u001b[32mfilter()\u001b[39m masks \u001b[34mstats\u001b[39m::filter()\n",
      "\u001b[31m✖\u001b[39m \u001b[34mdplyr\u001b[39m::\u001b[32mlag()\u001b[39m    masks \u001b[34mstats\u001b[39m::lag()\n",
      "\n",
      "Registered S3 method overwritten by 'GGally':\n",
      "  method from   \n",
      "  +.gg   ggplot2\n",
      "\n",
      "Warning message:\n",
      "“package ‘tidymodels’ was built under R version 4.0.2”\n",
      "── \u001b[1mAttaching packages\u001b[22m ────────────────────────────────────── tidymodels 0.1.1 ──\n",
      "\n",
      "\u001b[32m✔\u001b[39m \u001b[34mbroom    \u001b[39m 0.7.0      \u001b[32m✔\u001b[39m \u001b[34mrecipes  \u001b[39m 0.1.13\n",
      "\u001b[32m✔\u001b[39m \u001b[34mdials    \u001b[39m 0.0.9      \u001b[32m✔\u001b[39m \u001b[34mrsample  \u001b[39m 0.0.7 \n",
      "\u001b[32m✔\u001b[39m \u001b[34minfer    \u001b[39m 0.5.4      \u001b[32m✔\u001b[39m \u001b[34mtune     \u001b[39m 0.1.1 \n",
      "\u001b[32m✔\u001b[39m \u001b[34mmodeldata\u001b[39m 0.0.2      \u001b[32m✔\u001b[39m \u001b[34mworkflows\u001b[39m 0.2.0 \n",
      "\u001b[32m✔\u001b[39m \u001b[34mparsnip  \u001b[39m 0.1.3      \u001b[32m✔\u001b[39m \u001b[34myardstick\u001b[39m 0.0.7 \n",
      "\n",
      "Warning message:\n",
      "“package ‘broom’ was built under R version 4.0.2”\n",
      "Warning message:\n",
      "“package ‘dials’ was built under R version 4.0.2”\n",
      "Warning message:\n",
      "“package ‘infer’ was built under R version 4.0.3”\n",
      "Warning message:\n",
      "“package ‘modeldata’ was built under R version 4.0.1”\n",
      "Warning message:\n",
      "“package ‘parsnip’ was built under R version 4.0.2”\n",
      "Warning message:\n",
      "“package ‘recipes’ was built under R version 4.0.1”\n",
      "Warning message:\n",
      "“package ‘tune’ was built under R version 4.0.2”\n",
      "Warning message:\n",
      "“package ‘workflows’ was built under R version 4.0.2”\n",
      "Warning message:\n",
      "“package ‘yardstick’ was built under R version 4.0.2”\n",
      "── \u001b[1mConflicts\u001b[22m ───────────────────────────────────────── tidymodels_conflicts() ──\n",
      "\u001b[31m✖\u001b[39m \u001b[34mscales\u001b[39m::\u001b[32mdiscard()\u001b[39m masks \u001b[34mpurrr\u001b[39m::discard()\n",
      "\u001b[31m✖\u001b[39m \u001b[34mdplyr\u001b[39m::\u001b[32mfilter()\u001b[39m   masks \u001b[34mstats\u001b[39m::filter()\n",
      "\u001b[31m✖\u001b[39m \u001b[34mrecipes\u001b[39m::\u001b[32mfixed()\u001b[39m  masks \u001b[34mstringr\u001b[39m::fixed()\n",
      "\u001b[31m✖\u001b[39m \u001b[34mdplyr\u001b[39m::\u001b[32mlag()\u001b[39m      masks \u001b[34mstats\u001b[39m::lag()\n",
      "\u001b[31m✖\u001b[39m \u001b[34myardstick\u001b[39m::\u001b[32mspec()\u001b[39m masks \u001b[34mreadr\u001b[39m::spec()\n",
      "\u001b[31m✖\u001b[39m \u001b[34mrecipes\u001b[39m::\u001b[32mstep()\u001b[39m   masks \u001b[34mstats\u001b[39m::step()\n",
      "\n"
     ]
    },
    {
     "ename": "ERROR",
     "evalue": "Error in library(skimr): there is no package called ‘skimr’\n",
     "output_type": "error",
     "traceback": [
      "Error in library(skimr): there is no package called ‘skimr’\nTraceback:\n",
      "1. library(skimr)"
     ]
    }
   ],
   "source": [
    "# install.packages(\"skimr\")\n",
    "# install.packages(\"GGally\")\n",
    "# install.packages(\"tidyverse\")\n",
    "# install.packages(\"repr\")\n",
    "# install.packages(\"tidymodels\")\n",
    "# install.packages(\"kknn\")\n",
    "library(tidyverse)\n",
    "library(repr)\n",
    "library(GGally)\n",
    "library(tidymodels)\n",
    "library(skimr)"
   ]
  },
  {
   "cell_type": "code",
   "execution_count": null,
   "metadata": {},
   "outputs": [],
   "source": [
    "# URL that contains the dataframe that we want to examine\n",
    "url <- \"https://archive.ics.uci.edu/ml/machine-learning-databases/00547/Algerian_forest_fires_dataset_UPDATE.csv\"\n",
    "\n",
    "# Reading dataframe into R\n",
    "algerian_forest_fires <- read_csv(url,skip = 1)\n",
    "\n",
    "# Examining the data frame\n",
    "# algerian_forest_data\n",
    "\n",
    "# Inspecting the parsing failures\n",
    "\n",
    "# algerian_forest_fires[123, 1:14] -- Empty row between two data sets\n",
    " \n",
    "# algerian_forest_fires[168, 1:14] -- Needs to be fixed\n",
    "\n",
    "algerian_forest_fires[168, 10] = '14.6'\n",
    "algerian_forest_fires[168, 11] =  '9'\n",
    "algerian_forest_fires[168, 12] =  '12.5'\n",
    "algerian_forest_fires[168, 13] =  '10.4'\n",
    "algerian_forest_fires[168, 14] =  \"fire\""
   ]
  },
  {
   "cell_type": "markdown",
   "metadata": {},
   "source": [
    "### Upon examination we infer that:\n",
    "<p>\n",
    "    <li>File that we read contains 2 dataframes.</li>\n",
    "    <li>The dataset's column types aren't parsed correctly</li>\n",
    "<p>To extract the target data frame, we will split the file into two dataframes, tidy both of them, and lastly join them.</p>"
   ]
  },
  {
   "cell_type": "markdown",
   "metadata": {},
   "source": [
    "### Extracting and tidying Bejaja region data set"
   ]
  },
  {
   "cell_type": "code",
   "execution_count": null,
   "metadata": {},
   "outputs": [],
   "source": [
    "# Retrieving the bejaja data set\n",
    "bejaja_forest <- slice(algerian_forest_fires, 2:122)\n",
    "\n",
    "#Fixing the collumn types of the numerical variables\n",
    "bejaja_forest_data <- bejaja_forest %>% \n",
    "    select(day:FWI) %>% \n",
    "    map_df(as.double) \n",
    "\n",
    "# Selecting the observation class data\n",
    "bejaja_forest_fires <- bejaja_forest %>% \n",
    "    select(Classes) \n",
    "\n",
    "# Joining numerical variable and observation class data \n",
    "bejaja_forest_tidy <- cbind(bejaja_forest_data,bejaja_forest_fires)\n",
    "#head(bejaja_forest_tidy)"
   ]
  },
  {
   "cell_type": "markdown",
   "metadata": {},
   "source": [
    "### Extracting and tidying Sidi-Bel region data set"
   ]
  },
  {
   "cell_type": "code",
   "execution_count": null,
   "metadata": {},
   "outputs": [],
   "source": [
    "#Finding the number of rows in the original dataset\n",
    "number_of_rows <- nrow(algerian_forest_fires)\n",
    "\n",
    "# Retrieving the sidi-bel data set\n",
    "sidi_bel_forest <- slice(algerian_forest_fires, 125:number_of_rows)\n",
    "\n",
    "\n",
    "#Fixing the collumn types of the numerical variables\n",
    "sidi_bel_forest_data <- sidi_bel_forest %>% \n",
    "    select(day:FWI) %>% \n",
    "    map_df(as.double)\n",
    "\n",
    "\n",
    "# Selecting the observation class data\n",
    "sidi_bel_forest_fires <- sidi_bel_forest %>% \n",
    "    select(Classes)\n",
    "\n",
    "# Joining numerical variable and observation class data \n",
    "sidi_bel_forest_tidy <- cbind(sidi_bel_forest_data,sidi_bel_forest_fires)"
   ]
  },
  {
   "cell_type": "markdown",
   "metadata": {},
   "source": [
    "### Joining our two dataframes"
   ]
  },
  {
   "cell_type": "code",
   "execution_count": null,
   "metadata": {},
   "outputs": [],
   "source": [
    "algerian_forest_fires_tidy <- full_join(bejaja_forest_tidy, sidi_bel_forest_tidy)\n",
    "# algerian_forest_fires_tidy\n",
    "\n",
    "# The resulting data frame is tidy and ready for the further analysis\n"
   ]
  },
  {
   "cell_type": "markdown",
   "metadata": {},
   "source": [
    "## Explanatory data analysis"
   ]
  },
  {
   "cell_type": "markdown",
   "metadata": {},
   "source": [
    "### Splitting our data"
   ]
  },
  {
   "cell_type": "markdown",
   "metadata": {},
   "source": [
    "#### Choosing the split proportion \n",
    "<p>\n",
    "<li> When choosing a split percentage, you are forced to decide between a more accurate evaluation of your model's performance and the better-trained model. </li>\n",
    "<li>We choose to split our data set into 75% of training data and 25% of testing data. We reasoned that since our data set is not large, allocating more observations to the testing data set would drastically decrease our model's performance.\n",
    "</li>\n",
    " </p>\n"
   ]
  },
  {
   "cell_type": "code",
   "execution_count": null,
   "metadata": {},
   "outputs": [],
   "source": [
    "# Setting the seed \n",
    "set.seed(2021)\n",
    "# Splitting the data set\n",
    "algerian_forest_fires_tidy <- mutate(algerian_forest_fires_tidy, Classes = as.factor(Classes))\n",
    "forest_split <- initial_split(algerian_forest_fires_tidy, prop = 0.75, strata = Classes)\n",
    "forest_train <- training(forest_split)\n",
    "forest_test <- testing(forest_split)"
   ]
  },
  {
   "cell_type": "markdown",
   "metadata": {},
   "source": [
    "### Creating summary table "
   ]
  },
  {
   "cell_type": "code",
   "execution_count": null,
   "metadata": {},
   "outputs": [],
   "source": [
    "# Specifying the summary function\n",
    "my_skim <- skim_with(numeric = sfl(median, mean,  sd, min, max),\n",
    "                                   append = FALSE)\n",
    "\n",
    "# Creating summary table\n",
    "summary_df <- my_skim(forest_train) %>% \n",
    "    tibble::as_tibble() %>% \n",
    "    select(skim_variable:numeric.max)\n",
    "summary_df"
   ]
  },
  {
   "cell_type": "markdown",
   "metadata": {},
   "source": [
    "#### Imbalance of class labels \n",
    "<p> After a quick look at a summary table, we can see that there are more fire class labels than non-fire observations. <br>\n",
    "    We believe that this is not an issue since the 30% difference in the number of observations does not warrant upsampling the data. <br>\n",
    "    On the contrary, upsampling the data in this example would probably result in worse performance since each non-fire observation <br>\n",
    "    would gain more weight, making our model favour non-fire observations.<p/>"
   ]
  },
  {
   "cell_type": "markdown",
   "metadata": {},
   "source": [
    "### Ploting our data "
   ]
  },
  {
   "cell_type": "code",
   "execution_count": null,
   "metadata": {},
   "outputs": [],
   "source": [
    "# Plot options\n",
    "options(repr.plot.width = 18, repr.plot.height= 18)\n",
    "# Removing the date data\n",
    "forest_train <- select(forest_train,Temperature:Classes)\n",
    "# We are using ggpairs to plot our variables against each other and see correlation\n",
    "ggpairs(forest_train, columns = c(\"Temperature\",\"RH\",\"Ws\",\"Rain\",\"FFMC\",\"DMC\",\"DC\",\"ISI\",\"BUI\",\"FWI\"),\n",
    "      aes(colour = Classes))  +\n",
    "      theme(text = element_text(size = 18),\n",
    "       axis.text = element_text(size = 10)) "
   ]
  },
  {
   "cell_type": "markdown",
   "metadata": {},
   "source": [
    "## Methods\n",
    "* The question we seek to answer through this project falls under the classification category. Therefore, after tidying the dataset, we divided it into a training set and a testing set.\n",
    "* The categorical variable here will be Classes that tells us whether there was a fire or not. The predictors chosen for the model are Duff Moisture Content (DMC) and Initial Spread Index (ISI).\n",
    "* DMC represents the fuel moisture of decomposed organic material present on the forest floor. ISI estimates the spread potential by integrating the moisture content of the forest and the wind speed at the given time.\n",
    "* They are derived from variables such as temperature, rain, wind speed, and humidity calculated and predicted by scientists daily.\n",
    "* During our EDA process, we found that these two variables give a definite description as to when a fire occurs. This is illustrated in this project with the help of ggpairs(). We also found out that a model with these predictors gives the highest accuracy.\n",
    "* Now that we have defined the categorical variable and its predictors, we tune our K-nearest classifier model based on the training set to find the best K value.\n",
    "* We made a _model specification_ , preprocessed our data using the recipe() function, and used cross-validation to ensure that our model does not overfit and help understand our model's accuracy. A high number of folds in cross-validation ensures that the model output has a lower standard error.\n",
    "* After putting the entire process in a workflow, we determine the value of K here by choosing the result which had the highest accuracy. The K value obtained was 5.\n",
    "* This model will then be used to predict our test set's class labels, with the model specification using the K value obtained during the training phase, and then determine its accuracy on new observations.\n",
    "* For our visualization, we will create decision boundary plot."
   ]
  },
  {
   "cell_type": "markdown",
   "metadata": {},
   "source": [
    "### Tuning our model"
   ]
  },
  {
   "cell_type": "code",
   "execution_count": null,
   "metadata": {},
   "outputs": [],
   "source": [
    "# Setting the seed value\n",
    "set.seed(2021)\n",
    "\n",
    "# Creating a model for tuning \n",
    "knn_spec <- nearest_neighbor(weight_func = \"rectangular\", neighbors = tune()) %>% \n",
    "    set_engine(\"kknn\") %>% \n",
    "    set_mode(\"classification\")\n",
    "\n",
    "# Creating a data pre-proccessing recipe\n",
    "ff_recipe <- recipe(Classes ~  ISI + DMC , data = forest_train) %>% \n",
    "    step_scale(all_predictors()) %>%\n",
    "    step_center(all_predictors())\n",
    "\n",
    "# Creating a cross validation set \n",
    "ff_vfold <- vfold_cv(forest_train, v = 10, strata = Classes)\n",
    "\n",
    "gridvals <- tibble(neighbors = seq(1:15))\n",
    "\n",
    "# Fitting our model with different k values\n",
    "knn_results <- workflow() %>%\n",
    "    add_recipe(ff_recipe) %>%\n",
    "    add_model(knn_spec) %>%\n",
    "    tune_grid(resamples = ff_vfold, grid = gridvals) %>%\n",
    "    collect_metrics()\n",
    "\n",
    "# Selecting a model with the highest accuracy \n",
    "best_k <- knn_results %>% \n",
    "    filter(.metric == \"accuracy\") %>% \n",
    "    arrange(desc(mean)) %>% \n",
    "    slice(1) %>% \n",
    "    select(neighbors) %>% \n",
    "    pull()\n",
    "\n",
    "best_k"
   ]
  },
  {
   "cell_type": "markdown",
   "metadata": {},
   "source": [
    "### Testing our model"
   ]
  },
  {
   "cell_type": "code",
   "execution_count": null,
   "metadata": {},
   "outputs": [],
   "source": [
    "# Setting seed value\n",
    "set.seed(2021)\n",
    "\n",
    "# Creating final model\n",
    "ff_knn <- nearest_neighbor(weight_func = \"rectangular\", neighbors = best_k) %>% \n",
    "    set_engine(\"kknn\") %>% \n",
    "    set_mode(\"classification\")\n",
    "\n",
    "# Fitting the model\n",
    "ff_fit <- workflow() %>% \n",
    "    add_recipe(ff_recipe) %>% \n",
    "    add_model(ff_knn) %>% \n",
    "    fit(data = forest_train)\n",
    "\n",
    "# Using our fit to predict on test set\n",
    "ff_predictions <- predict(ff_fit, forest_test) %>% \n",
    "    bind_cols(forest_test)\n",
    "\n",
    "# Estimating accuracy of our classifier\n",
    "ff_metrics <- ff_predictions %>% \n",
    "    metrics(truth = Classes, estimate = .pred_class)\n",
    "ff_metrics\n",
    "\n",
    "ff_conf_mat <- ff_predictions %>%\n",
    "    conf_mat(truth = Classes, estimate = .pred_class)\n",
    "ff_conf_mat"
   ]
  },
  {
   "cell_type": "code",
   "execution_count": null,
   "metadata": {},
   "outputs": [
    {
     "data": {
      "text/html": [
       "5"
      ],
      "text/latex": [
       "5"
      ],
      "text/markdown": [
       "5"
      ],
      "text/plain": [
       "[1] 5"
      ]
     },
     "metadata": {},
     "output_type": "display_data"
    },
    {
     "data": {
      "text/html": [
       "<table class=\"dataframe\">\n",
       "<caption>A tibble: 2 × 3</caption>\n",
       "<thead>\n",
       "\t<tr><th scope=col>.metric</th><th scope=col>.estimator</th><th scope=col>.estimate</th></tr>\n",
       "\t<tr><th scope=col>&lt;chr&gt;</th><th scope=col>&lt;chr&gt;</th><th scope=col>&lt;dbl&gt;</th></tr>\n",
       "</thead>\n",
       "<tbody>\n",
       "\t<tr><td>accuracy</td><td>binary</td><td>0.9833333</td></tr>\n",
       "\t<tr><td>kap     </td><td>binary</td><td>0.9662162</td></tr>\n",
       "</tbody>\n",
       "</table>\n"
      ],
      "text/latex": [
       "A tibble: 2 × 3\n",
       "\\begin{tabular}{lll}\n",
       " .metric & .estimator & .estimate\\\\\n",
       " <chr> & <chr> & <dbl>\\\\\n",
       "\\hline\n",
       "\t accuracy & binary & 0.9833333\\\\\n",
       "\t kap      & binary & 0.9662162\\\\\n",
       "\\end{tabular}\n"
      ],
      "text/markdown": [
       "\n",
       "A tibble: 2 × 3\n",
       "\n",
       "| .metric &lt;chr&gt; | .estimator &lt;chr&gt; | .estimate &lt;dbl&gt; |\n",
       "|---|---|---|\n",
       "| accuracy | binary | 0.9833333 |\n",
       "| kap      | binary | 0.9662162 |\n",
       "\n"
      ],
      "text/plain": [
       "  .metric  .estimator .estimate\n",
       "1 accuracy binary     0.9833333\n",
       "2 kap      binary     0.9662162"
      ]
     },
     "metadata": {},
     "output_type": "display_data"
    },
    {
     "data": {
      "text/plain": [
       "          Truth\n",
       "Prediction fire not fire\n",
       "  fire       33        0\n",
       "  not fire    1       26"
      ]
     },
     "metadata": {},
     "output_type": "display_data"
    }
   ],
   "source": [
    "# Creating vector with 100 possible values in ISI range\n",
    "isi_seq <- seq(from = min(algerian_forest_fires_tidy$ISI, na.rm = TRUE), \n",
    "               to = max(algerian_forest_fires_tidy$ISI, na.rm = TRUE), \n",
    "               length.out = 100)\n",
    "\n",
    "# Creating a vector with 100 possible values in DMC range \n",
    "ffmc_seq <- seq(from = min(algerian_forest_fires_tidy$DMC, na.rm = TRUE), \n",
    "                to = max(algerian_forest_fires_tidy$DMC, na.rm = TRUE), \n",
    "                length.out = 100)\n",
    "\n",
    "#\n",
    "grid_points <-  expand.grid(ISI = isi_seq,\n",
    "                            DMC = ffmc_seq)\n",
    "\n",
    "# Creating a data set with 10000 observations to construct a decision boundary plot\n",
    "grid_predicted <- ff_fit %>% \n",
    "    predict(grid_points) %>% \n",
    "    bind_cols(grid_points) \n"
   ]
  },
  {
   "cell_type": "code",
   "execution_count": null,
   "metadata": {},
   "outputs": [],
   "source": [
    "# Creating a desicion boundary plot \n",
    "bui_isi_boundary_plot <- ggplot(grid_predicted, aes(x = DMC, y = ISI, color = .pred_class)) +\n",
    "    geom_point(alpha = 0.3,size = 5.) + \n",
    "    geom_point(data = algerian_forest_fires_tidy, aes(x = DMC, y = ISI, color = Classes)) +\n",
    "    labs(y = \"Initial spread index\", x = \"Duff Moisture Code\", color = \"Class label\") +\n",
    "     theme(text = element_text(size = 18),\n",
    "       axis.text = element_text(size = 10)) \n",
    "\n",
    "bui_isi_boundary_plot\n"
   ]
  },
  {
   "cell_type": "markdown",
   "metadata": {},
   "source": [
    "## Disscussion "
   ]
  },
  {
   "cell_type": "markdown",
   "metadata": {},
   "source": [
    "#### Results:\n",
    "<li>Overall, we were able to develop a K-means classifier that could help predict future forest fires using other indicators available. The classifier turned out to have 98% accuracy, which could serve to be very useful in detection and prevention of future forest fires.</li>"
   ]
  },
  {
   "cell_type": "markdown",
   "metadata": {},
   "source": [
    "#### Did we expect this outcome? \n",
    "<li> We did expect to find some relative accuracy in the classifier because we knew that the variables used in our data would have some correlation, but to achieve such a high level of accuracy is something we didn’t really for-see. Now that we look back at this project in hindsight, we think a major part of why the classifier was able to achieve this number is because of the number of variables we took into account. Allowing _ variables in our classifier would’ve allowed the algorithm to distinguish to an even finer level, possibly being the cause for the greater accuracy </li>"
   ]
  },
  {
   "cell_type": "markdown",
   "metadata": {},
   "source": [
    "#### Significance:\n",
    "<li> Being able to predict forest fires in the future using these other variables could be very useful, as it could not only aid in prevention of these fires, but also — on a macro level — contribute to environmental sustainability. In the US, forest fires have doubled since 1985 to cover over 10 million acres of land, hugely snow-balling the process of climate change. Utilising this algorithm to prevent even 10% of these forest fires could have a huge impact on helping sustain our environment. Furthermore, global Oxygen levels, lives of endangered species and even global warming could all see huge improvements by having the ability to predict and prevent future forest fires. We think our algorithm is of great utility in this area and an aspect where utilisation of Data could really contribute. </li>"
   ]
  },
  {
   "cell_type": "markdown",
   "metadata": {},
   "source": [
    "#### Further disscussion: \n",
    "<li>In future, we can look into how our model would perform in different regions worldwide. The predictors that we used to create our model are amongst the most commonly collected types of observations worldwide, so scalability should not be an issue. However, our model's relevancy could be diminished due to the small number of observations and the fact that they all were collected in the same region. Thus, our data is succuptible to small anomalys such as antropogenic factors and  could be suited to predicting regions with moderate climate. An important note is Torres et al (2018) illustrates that the FWI System Index of the Canadian Forest Fire Hazard which our model refers to has the largest linear correlations to prediction of forest fires compared to other systems used worldwide.</li>"
   ]
  },
  {
   "cell_type": "markdown",
   "metadata": {},
   "source": [
<<<<<<< HEAD
    "## Citations (APA):\n",
    "<li> Torres, Fillipe Tamiozzo Pereira, Lima, Gumercindo Souza, & Alvares, Bráulio Furtado. (2018). FIRE BEHAVIOR VARIABLES AND HAZARD INDICES OF FOREST FIRES. Revista Árvore, 42(3), e420306. Epub September 13, 2018.https://dx.doi.org/10.1590/1806-90882018000300006 </li>\n",
    "<li> Han, S., Han, Y., Jin, Y., & Zhou, W. (1992). The Method For Calculating Forest Fire Behavior Index. Iafss.org. Retrieved 11 April 2021, from https://iafss.org/publications/aofst/1/77."
   ]
  },
  {
   "cell_type": "code",
   "execution_count": null,
   "metadata": {},
   "outputs": [],
   "source": []
=======
    "#### References (APA):\n",
    "<li> Torres, Fillipe Tamiozzo Pereira, Lima, Gumercindo Souza, & Alvares, Bráulio Furtado. (2018). FIRE BEHAVIOR VARIABLES AND HAZARD INDICES OF FOREST FIRES. Revista Árvore, 42(3), e420306. Epub September 13, 2018.https://dx.doi.org/10.1590/1806-90882018000300006 </li>\n",
    "<li> Han, S., Han, Y., Jin, Y., & Zhou, W. (1992). The Method For Calculating Forest Fire Behavior Index. Iafss.org. Retrieved 11 April 2021, from https://iafss.org/publications/aofst/1/77."
   ]
>>>>>>> 9057ec7579478977775fd64dc66e8043a0abb3ed
  }
 ],
 "metadata": {
  "kernelspec": {
   "display_name": "R",
   "language": "R",
   "name": "ir"
  },
  "language_info": {
   "name": "R",
   "version": ""
  }
 },
 "nbformat": 4,
 "nbformat_minor": 4
}